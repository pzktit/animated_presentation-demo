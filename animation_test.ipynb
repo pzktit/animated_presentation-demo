{
 "cells": [
  {
   "cell_type": "markdown",
   "metadata": {},
   "source": [
    "# Animowana prezentacja"
   ]
  },
  {
   "cell_type": "markdown",
   "metadata": {},
   "source": [
    "## Niezbędne biblioteki"
   ]
  },
  {
   "cell_type": "code",
   "execution_count": 2,
   "metadata": {},
   "outputs": [],
   "source": [
    "from manim import *\n",
    "from manim_slides import Slide"
   ]
  },
  {
   "cell_type": "code",
   "execution_count": 3,
   "metadata": {},
   "outputs": [],
   "source": [
    "class SlidesNG(Slide):\n",
    "    def __init__(self, *args, **kwargs):\n",
    "        super().__init__(*args, **kwargs)\n",
    "        self.wait_shape = Dot(color=RED).to_corner(UR)\n",
    "\n",
    "    def next_slide(self, *args, **kwargs):\n",
    "        self.play(FadeIn(self.wait_shape))\n",
    "        super().next_slide(*args, **kwargs)\n",
    "        self.play(FadeOut(self.wait_shape))\n",
    "\n",
    "    def create_text_animation(self, point_or_mobject, rect_width, textstring, origin=ORIGIN, next_to=DOWN, text_color=BLACK, font_size=12, background_color=WHITE, background_opacity=1):\n",
    "        text = Text(textstring, color=text_color, font_size=font_size)\n",
    "        # Create background\n",
    "        rect_height = text.height + 0.2  # Small padding\n",
    "        rectangle = RoundedRectangle(width=rect_width, height=rect_height, corner_radius=0.1, color=background_color, fill_opacity=background_opacity)\n",
    "        rectangle.move_to(origin)\n",
    "        # Position the text to the right edge of the rectangle initially\n",
    "        text.move_to(rectangle.get_right() + text.width / 2 * RIGHT)\n",
    "        # Play the animations\n",
    "        self.play(Wait(1))\n",
    "        self.play(GrowFromPoint(rectangle, ORIGIN))\n",
    "        self.play(text.animate.move_to(rectangle.get_left() + text.width / 2 * RIGHT).set_run_time(5))                \n",
    "\n",
    "        gr = VGroup(rectangle,text)\n",
    "        # gr.shift(-gr.get_corner(UL)) # update anchor to Upper left corner\n",
    "        if isinstance(point_or_mobject, Mobject):  # Move the group to the specified position or next to the mobject\n",
    "            move_to_position = gr.animate.next_to(point_or_mobject, next_to).set_run_time(2)\n",
    "        else:\n",
    "            move_to_position = gr.animate.move_to(point_or_mobject-gr.get_corner(UL)).set_run_time(2)\n",
    "        self.play( move_to_position )\n",
    "        return gr   \n"
   ]
  },
  {
   "cell_type": "markdown",
   "metadata": {},
   "source": [
    "## Pierwsza animacja\n",
    "\n",
    "1. Zmienna `shape` zawiera animowany obiekt.\n",
    "2. Przypisujemy do niej kolejne kształty wykorzystując funkcję `Transform`.\n",
    "\n",
    "Do skompilowania animacji służy `Magick Comment` zamieszczony w poniższej komórce z kodem.\n",
    "\n",
    "`%%manim -qh -v WARNING Slide01`"
   ]
  },
  {
   "cell_type": "markdown",
   "metadata": {},
   "source": [
    "%%manim -v WARNING --progress_bar None Slide01 --manim-slides controls=true data_uri=true"
   ]
  },
  {
   "cell_type": "code",
   "execution_count": 4,
   "metadata": {},
   "outputs": [
    {
     "data": {
      "text/html": [
       "<pre style=\"white-space:pre;overflow-x:auto;line-height:normal;font-family:Menlo,'DejaVu Sans Mono',consolas,'Courier New',monospace\">Manim Community <span style=\"color: #008000; text-decoration-color: #008000\">v0.18.1</span>\n",
       "\n",
       "</pre>\n"
      ],
      "text/plain": [
       "Manim Community \u001b[32mv0.\u001b[0m\u001b[32m18.1\u001b[0m\n",
       "\n"
      ]
     },
     "metadata": {},
     "output_type": "display_data"
    },
    {
     "name": "stderr",
     "output_type": "stream",
     "text": [
      "                                                                                                                                         \r"
     ]
    },
    {
     "data": {
      "text/html": [
       "<pre style=\"white-space:pre;overflow-x:auto;line-height:normal;font-family:Menlo,'DejaVu Sans Mono',consolas,'Courier New',monospace\"><span style=\"color: #7fbfbf; text-decoration-color: #7fbfbf\">[07/11/24 08:19:48] </span><span style=\"color: #000080; text-decoration-color: #000080\">INFO    </span> Generated <span style=\"color: #008080; text-decoration-color: #008080; font-weight: bold\">3</span> slides to                                                      <a href=\"file:///home/vscode/.local/lib/python3.12/site-packages/manim_slides/slide/base.py\" target=\"_blank\"><span style=\"color: #7f7f7f; text-decoration-color: #7f7f7f\">base.py</span></a><span style=\"color: #7f7f7f; text-decoration-color: #7f7f7f\">:</span><a href=\"file:///home/vscode/.local/lib/python3.12/site-packages/manim_slides/slide/base.py#503\" target=\"_blank\"><span style=\"color: #7f7f7f; text-decoration-color: #7f7f7f\">503</span></a>\n",
       "<span style=\"color: #7fbfbf; text-decoration-color: #7fbfbf\">                    </span>         <span style=\"color: #008000; text-decoration-color: #008000\">'/workspaces/animated_presentation-demo/slides/files/Slide01'</span>              <span style=\"color: #7f7f7f; text-decoration-color: #7f7f7f\">           </span>\n",
       "</pre>\n"
      ],
      "text/plain": [
       "\u001b[2;36m[07/11/24 08:19:48]\u001b[0m\u001b[2;36m \u001b[0m\u001b[34mINFO    \u001b[0m Generated \u001b[1;36m3\u001b[0m slides to                                                      \u001b]8;id=440630;file:///home/vscode/.local/lib/python3.12/site-packages/manim_slides/slide/base.py\u001b\\\u001b[2mbase.py\u001b[0m\u001b]8;;\u001b\\\u001b[2m:\u001b[0m\u001b]8;id=621969;file:///home/vscode/.local/lib/python3.12/site-packages/manim_slides/slide/base.py#503\u001b\\\u001b[2m503\u001b[0m\u001b]8;;\u001b\\\n",
       "\u001b[2;36m                    \u001b[0m         \u001b[32m'/workspaces/animated_presentation-demo/slides/files/Slide01'\u001b[0m              \u001b[2m           \u001b[0m\n"
      ]
     },
     "metadata": {},
     "output_type": "display_data"
    },
    {
     "data": {
      "text/html": [
       "<pre style=\"white-space:pre;overflow-x:auto;line-height:normal;font-family:Menlo,'DejaVu Sans Mono',consolas,'Courier New',monospace\"><span style=\"color: #7fbfbf; text-decoration-color: #7fbfbf\">                    </span><span style=\"color: #000080; text-decoration-color: #000080\">INFO    </span> Slide <span style=\"color: #008000; text-decoration-color: #008000\">'Slide01'</span> configuration written in                                   <a href=\"file:///home/vscode/.local/lib/python3.12/site-packages/manim_slides/slide/base.py\" target=\"_blank\"><span style=\"color: #7f7f7f; text-decoration-color: #7f7f7f\">base.py</span></a><span style=\"color: #7f7f7f; text-decoration-color: #7f7f7f\">:</span><a href=\"file:///home/vscode/.local/lib/python3.12/site-packages/manim_slides/slide/base.py#515\" target=\"_blank\"><span style=\"color: #7f7f7f; text-decoration-color: #7f7f7f\">515</span></a>\n",
       "<span style=\"color: #7fbfbf; text-decoration-color: #7fbfbf\">                    </span>         <span style=\"color: #008000; text-decoration-color: #008000\">'/workspaces/animated_presentation-demo/slides/Slide01.json'</span>               <span style=\"color: #7f7f7f; text-decoration-color: #7f7f7f\">           </span>\n",
       "</pre>\n"
      ],
      "text/plain": [
       "\u001b[2;36m                   \u001b[0m\u001b[2;36m \u001b[0m\u001b[34mINFO    \u001b[0m Slide \u001b[32m'Slide01'\u001b[0m configuration written in                                   \u001b]8;id=624857;file:///home/vscode/.local/lib/python3.12/site-packages/manim_slides/slide/base.py\u001b\\\u001b[2mbase.py\u001b[0m\u001b]8;;\u001b\\\u001b[2m:\u001b[0m\u001b]8;id=347542;file:///home/vscode/.local/lib/python3.12/site-packages/manim_slides/slide/base.py#515\u001b\\\u001b[2m515\u001b[0m\u001b]8;;\u001b\\\n",
       "\u001b[2;36m                    \u001b[0m         \u001b[32m'/workspaces/animated_presentation-demo/slides/Slide01.json'\u001b[0m               \u001b[2m           \u001b[0m\n"
      ]
     },
     "metadata": {},
     "output_type": "display_data"
    },
    {
     "data": {
      "text/html": [
       "<video src=\"media/jupyter/Slide01@2024-07-11@08-19-48.mp4\" controls autoplay loop style=\"max-width: 60%;\"  >\n",
       "      Your browser does not support the <code>video</code> element.\n",
       "    </video>"
      ],
      "text/plain": [
       "<IPython.core.display.Video object>"
      ]
     },
     "metadata": {},
     "output_type": "display_data"
    }
   ],
   "source": [
    "%%manim -v WARNING Slide01\n",
    "class Slide01(Slide):\n",
    "   def construct(self):\n",
    "      shape = Square()\n",
    "      self.play(Create(shape))\n",
    "      self.next_slide()\n",
    "      circle = Circle()\n",
    "      circle.set_fill(PINK, opacity=0.5)\n",
    "      self.play(Transform(shape, circle))\n",
    "      self.next_slide()\n",
    "      tex = Tex(r\"\\LaTeX\", font_size=144)\n",
    "      self.play(Transform(shape, tex))\n",
    "      self.wait()"
   ]
  },
  {
   "cell_type": "code",
   "execution_count": 5,
   "metadata": {},
   "outputs": [
    {
     "data": {
      "text/html": [
       "<pre style=\"white-space:pre;overflow-x:auto;line-height:normal;font-family:Menlo,'DejaVu Sans Mono',consolas,'Courier New',monospace\">Manim Community <span style=\"color: #008000; text-decoration-color: #008000\">v0.18.1</span>\n",
       "\n",
       "</pre>\n"
      ],
      "text/plain": [
       "Manim Community \u001b[32mv0.\u001b[0m\u001b[32m18.1\u001b[0m\n",
       "\n"
      ]
     },
     "metadata": {},
     "output_type": "display_data"
    },
    {
     "name": "stderr",
     "output_type": "stream",
     "text": [
      "                                                                                                                                 \r"
     ]
    },
    {
     "data": {
      "text/html": [
       "<pre style=\"white-space:pre;overflow-x:auto;line-height:normal;font-family:Menlo,'DejaVu Sans Mono',consolas,'Courier New',monospace\"><span style=\"color: #7fbfbf; text-decoration-color: #7fbfbf\">                    </span><span style=\"color: #000080; text-decoration-color: #000080\">INFO    </span> Generated <span style=\"color: #008080; text-decoration-color: #008080; font-weight: bold\">3</span> slides to                                                      <a href=\"file:///home/vscode/.local/lib/python3.12/site-packages/manim_slides/slide/base.py\" target=\"_blank\"><span style=\"color: #7f7f7f; text-decoration-color: #7f7f7f\">base.py</span></a><span style=\"color: #7f7f7f; text-decoration-color: #7f7f7f\">:</span><a href=\"file:///home/vscode/.local/lib/python3.12/site-packages/manim_slides/slide/base.py#503\" target=\"_blank\"><span style=\"color: #7f7f7f; text-decoration-color: #7f7f7f\">503</span></a>\n",
       "<span style=\"color: #7fbfbf; text-decoration-color: #7fbfbf\">                    </span>         <span style=\"color: #008000; text-decoration-color: #008000\">'/workspaces/animated_presentation-demo/slides/files/Slide02'</span>              <span style=\"color: #7f7f7f; text-decoration-color: #7f7f7f\">           </span>\n",
       "</pre>\n"
      ],
      "text/plain": [
       "\u001b[2;36m                   \u001b[0m\u001b[2;36m \u001b[0m\u001b[34mINFO    \u001b[0m Generated \u001b[1;36m3\u001b[0m slides to                                                      \u001b]8;id=893946;file:///home/vscode/.local/lib/python3.12/site-packages/manim_slides/slide/base.py\u001b\\\u001b[2mbase.py\u001b[0m\u001b]8;;\u001b\\\u001b[2m:\u001b[0m\u001b]8;id=887322;file:///home/vscode/.local/lib/python3.12/site-packages/manim_slides/slide/base.py#503\u001b\\\u001b[2m503\u001b[0m\u001b]8;;\u001b\\\n",
       "\u001b[2;36m                    \u001b[0m         \u001b[32m'/workspaces/animated_presentation-demo/slides/files/Slide02'\u001b[0m              \u001b[2m           \u001b[0m\n"
      ]
     },
     "metadata": {},
     "output_type": "display_data"
    },
    {
     "data": {
      "text/html": [
       "<pre style=\"white-space:pre;overflow-x:auto;line-height:normal;font-family:Menlo,'DejaVu Sans Mono',consolas,'Courier New',monospace\"><span style=\"color: #7fbfbf; text-decoration-color: #7fbfbf\">                    </span><span style=\"color: #000080; text-decoration-color: #000080\">INFO    </span> Slide <span style=\"color: #008000; text-decoration-color: #008000\">'Slide02'</span> configuration written in                                   <a href=\"file:///home/vscode/.local/lib/python3.12/site-packages/manim_slides/slide/base.py\" target=\"_blank\"><span style=\"color: #7f7f7f; text-decoration-color: #7f7f7f\">base.py</span></a><span style=\"color: #7f7f7f; text-decoration-color: #7f7f7f\">:</span><a href=\"file:///home/vscode/.local/lib/python3.12/site-packages/manim_slides/slide/base.py#515\" target=\"_blank\"><span style=\"color: #7f7f7f; text-decoration-color: #7f7f7f\">515</span></a>\n",
       "<span style=\"color: #7fbfbf; text-decoration-color: #7fbfbf\">                    </span>         <span style=\"color: #008000; text-decoration-color: #008000\">'/workspaces/animated_presentation-demo/slides/Slide02.json'</span>               <span style=\"color: #7f7f7f; text-decoration-color: #7f7f7f\">           </span>\n",
       "</pre>\n"
      ],
      "text/plain": [
       "\u001b[2;36m                   \u001b[0m\u001b[2;36m \u001b[0m\u001b[34mINFO    \u001b[0m Slide \u001b[32m'Slide02'\u001b[0m configuration written in                                   \u001b]8;id=675636;file:///home/vscode/.local/lib/python3.12/site-packages/manim_slides/slide/base.py\u001b\\\u001b[2mbase.py\u001b[0m\u001b]8;;\u001b\\\u001b[2m:\u001b[0m\u001b]8;id=867712;file:///home/vscode/.local/lib/python3.12/site-packages/manim_slides/slide/base.py#515\u001b\\\u001b[2m515\u001b[0m\u001b]8;;\u001b\\\n",
       "\u001b[2;36m                    \u001b[0m         \u001b[32m'/workspaces/animated_presentation-demo/slides/Slide02.json'\u001b[0m               \u001b[2m           \u001b[0m\n"
      ]
     },
     "metadata": {},
     "output_type": "display_data"
    },
    {
     "data": {
      "text/html": [
       "<video src=\"media/jupyter/Slide02@2024-07-11@08-19-48.mp4\" controls autoplay loop style=\"max-width: 60%;\"  >\n",
       "      Your browser does not support the <code>video</code> element.\n",
       "    </video>"
      ],
      "text/plain": [
       "<IPython.core.display.Video object>"
      ]
     },
     "metadata": {},
     "output_type": "display_data"
    }
   ],
   "source": [
    "%%manim -qh -v WARNING Slide02\n",
    "\n",
    "class Slide02(Slide):\n",
    "   def construct(self):\n",
    "      dot = Dot(color=RED).to_corner(UR)\n",
    "      shape = Square()\n",
    "      self.play(Create(shape))\n",
    "      self.play(FadeIn(dot, run_time=2))\n",
    "      self.wait(2)\n",
    "      self.next_slide()\n",
    "      self.play(FadeOut(dot, run_time=2))\n",
    "      circle = Circle()\n",
    "      circle.set_fill(PINK, opacity=0.5)\n",
    "      self.play(Transform(shape, circle))\n",
    "      self.next_slide(loop=True)\n",
    "      tex = Tex(r\"\\LaTeX\", font_size=144)\n",
    "      self.play(Transform(shape, tex))\n",
    "      self.next_slide()"
   ]
  },
  {
   "cell_type": "code",
   "execution_count": 6,
   "metadata": {},
   "outputs": [
    {
     "data": {
      "text/html": [
       "<pre style=\"white-space:pre;overflow-x:auto;line-height:normal;font-family:Menlo,'DejaVu Sans Mono',consolas,'Courier New',monospace\">Manim Community <span style=\"color: #008000; text-decoration-color: #008000\">v0.18.1</span>\n",
       "\n",
       "</pre>\n"
      ],
      "text/plain": [
       "Manim Community \u001b[32mv0.\u001b[0m\u001b[32m18.1\u001b[0m\n",
       "\n"
      ]
     },
     "metadata": {},
     "output_type": "display_data"
    },
    {
     "name": "stderr",
     "output_type": "stream",
     "text": [
      "                                                                                                                                         \r"
     ]
    },
    {
     "data": {
      "text/html": [
       "<pre style=\"white-space:pre;overflow-x:auto;line-height:normal;font-family:Menlo,'DejaVu Sans Mono',consolas,'Courier New',monospace\"><span style=\"color: #7fbfbf; text-decoration-color: #7fbfbf\">[07/11/24 08:20:17] </span><span style=\"color: #000080; text-decoration-color: #000080\">INFO    </span> Generated <span style=\"color: #008080; text-decoration-color: #008080; font-weight: bold\">3</span> slides to                                                      <a href=\"file:///home/vscode/.local/lib/python3.12/site-packages/manim_slides/slide/base.py\" target=\"_blank\"><span style=\"color: #7f7f7f; text-decoration-color: #7f7f7f\">base.py</span></a><span style=\"color: #7f7f7f; text-decoration-color: #7f7f7f\">:</span><a href=\"file:///home/vscode/.local/lib/python3.12/site-packages/manim_slides/slide/base.py#503\" target=\"_blank\"><span style=\"color: #7f7f7f; text-decoration-color: #7f7f7f\">503</span></a>\n",
       "<span style=\"color: #7fbfbf; text-decoration-color: #7fbfbf\">                    </span>         <span style=\"color: #008000; text-decoration-color: #008000\">'/workspaces/animated_presentation-demo/slides/files/Slide03'</span>              <span style=\"color: #7f7f7f; text-decoration-color: #7f7f7f\">           </span>\n",
       "</pre>\n"
      ],
      "text/plain": [
       "\u001b[2;36m[07/11/24 08:20:17]\u001b[0m\u001b[2;36m \u001b[0m\u001b[34mINFO    \u001b[0m Generated \u001b[1;36m3\u001b[0m slides to                                                      \u001b]8;id=866181;file:///home/vscode/.local/lib/python3.12/site-packages/manim_slides/slide/base.py\u001b\\\u001b[2mbase.py\u001b[0m\u001b]8;;\u001b\\\u001b[2m:\u001b[0m\u001b]8;id=575687;file:///home/vscode/.local/lib/python3.12/site-packages/manim_slides/slide/base.py#503\u001b\\\u001b[2m503\u001b[0m\u001b]8;;\u001b\\\n",
       "\u001b[2;36m                    \u001b[0m         \u001b[32m'/workspaces/animated_presentation-demo/slides/files/Slide03'\u001b[0m              \u001b[2m           \u001b[0m\n"
      ]
     },
     "metadata": {},
     "output_type": "display_data"
    },
    {
     "data": {
      "text/html": [
       "<pre style=\"white-space:pre;overflow-x:auto;line-height:normal;font-family:Menlo,'DejaVu Sans Mono',consolas,'Courier New',monospace\"><span style=\"color: #7fbfbf; text-decoration-color: #7fbfbf\">                    </span><span style=\"color: #000080; text-decoration-color: #000080\">INFO    </span> Slide <span style=\"color: #008000; text-decoration-color: #008000\">'Slide03'</span> configuration written in                                   <a href=\"file:///home/vscode/.local/lib/python3.12/site-packages/manim_slides/slide/base.py\" target=\"_blank\"><span style=\"color: #7f7f7f; text-decoration-color: #7f7f7f\">base.py</span></a><span style=\"color: #7f7f7f; text-decoration-color: #7f7f7f\">:</span><a href=\"file:///home/vscode/.local/lib/python3.12/site-packages/manim_slides/slide/base.py#515\" target=\"_blank\"><span style=\"color: #7f7f7f; text-decoration-color: #7f7f7f\">515</span></a>\n",
       "<span style=\"color: #7fbfbf; text-decoration-color: #7fbfbf\">                    </span>         <span style=\"color: #008000; text-decoration-color: #008000\">'/workspaces/animated_presentation-demo/slides/Slide03.json'</span>               <span style=\"color: #7f7f7f; text-decoration-color: #7f7f7f\">           </span>\n",
       "</pre>\n"
      ],
      "text/plain": [
       "\u001b[2;36m                   \u001b[0m\u001b[2;36m \u001b[0m\u001b[34mINFO    \u001b[0m Slide \u001b[32m'Slide03'\u001b[0m configuration written in                                   \u001b]8;id=564395;file:///home/vscode/.local/lib/python3.12/site-packages/manim_slides/slide/base.py\u001b\\\u001b[2mbase.py\u001b[0m\u001b]8;;\u001b\\\u001b[2m:\u001b[0m\u001b]8;id=916424;file:///home/vscode/.local/lib/python3.12/site-packages/manim_slides/slide/base.py#515\u001b\\\u001b[2m515\u001b[0m\u001b]8;;\u001b\\\n",
       "\u001b[2;36m                    \u001b[0m         \u001b[32m'/workspaces/animated_presentation-demo/slides/Slide03.json'\u001b[0m               \u001b[2m           \u001b[0m\n"
      ]
     },
     "metadata": {},
     "output_type": "display_data"
    },
    {
     "data": {
      "text/html": [
       "<video src=\"media/jupyter/Slide03@2024-07-11@08-20-17.mp4\" controls autoplay loop style=\"max-width: 60%;\"  >\n",
       "      Your browser does not support the <code>video</code> element.\n",
       "    </video>"
      ],
      "text/plain": [
       "<IPython.core.display.Video object>"
      ]
     },
     "metadata": {},
     "output_type": "display_data"
    }
   ],
   "source": [
    "%%manim -qh -v WARNING Slide03\n",
    "\n",
    "class Slide03(Slide):\n",
    "    def construct(self):\n",
    "        self.wait_time_between_slides = 0.1\n",
    "        plane = self.add(NumberPlane())\n",
    "\n",
    "\n",
    "        title = VGroup(\n",
    "            Text(\"Animowane zagadnienia\", t2c={\"Animowane\": BLUE}),\n",
    "            Text(\"prezentacji\", t2w={\"[-9:]\": BOLD}, t2c={\"[-10:]\": YELLOW}),\n",
    "        ).arrange(DOWN)\n",
    "        # Get the canvas (frame) width in Manim units\n",
    "        canvas_width = config.frame_width\n",
    "        rect_width = canvas_width * 0.4\n",
    "        start_point = np.array([-6.5, 3.5, 0])\n",
    "        textstring = \"Your Text Here\"\n",
    "\n",
    "        self.play(FadeIn(title))\n",
    "        self.next_slide()\n",
    "        self.play(ShrinkToCenter(title))\n",
    "\n",
    "        first_obj = self.create_text_animation(start_point, rect_width, \"To sem ja, pani Havrankowa\",background_color=GREEN_B,background_opacity=0.8)\n",
    "        self.next_slide()\n",
    "        second_obj = self.create_text_animation(first_obj, rect_width, \"Good morning\",background_color=GREEN_B,background_opacity=0.8)\n",
    "        self.wait()\n",
    "\n",
    "    def create_text_animation(self, point_or_mobject, rect_width, textstring, origin=ORIGIN, next_to=DOWN, text_color=BLACK, font_size=12, background_color=WHITE, background_opacity=1):\n",
    "        text = Text(textstring, color=text_color, font_size=font_size)\n",
    "        # Create background\n",
    "        rect_height = text.height + 0.2  # Small padding\n",
    "        rectangle = RoundedRectangle(width=rect_width, height=rect_height, corner_radius=0.1, color=background_color, fill_opacity=background_opacity)\n",
    "        rectangle.move_to(origin)\n",
    "        # Position the text to the right edge of the rectangle initially\n",
    "        text.move_to(rectangle.get_right() + text.width / 2 * RIGHT)\n",
    "        # Play the animations\n",
    "        self.play(Wait(1))\n",
    "        self.play(GrowFromPoint(rectangle, ORIGIN))\n",
    "        self.play(text.animate.move_to(rectangle.get_left() + text.width / 2 * RIGHT).set_run_time(5))                \n",
    "\n",
    "        gr = VGroup(rectangle,text)\n",
    "        # gr.shift(-gr.get_corner(UL)) # update anchor to Upper left corner\n",
    "        if isinstance(point_or_mobject, Mobject):  # Move the group to the specified position or next to the mobject\n",
    "            move_to_position = gr.animate.next_to(point_or_mobject, next_to).set_run_time(2)\n",
    "        else:\n",
    "            move_to_position = gr.animate.move_to(point_or_mobject-gr.get_corner(UL)).set_run_time(2)\n",
    "        self.play( move_to_position )\n",
    "        self.play(Indicate(gr))\n",
    "        return gr   \n",
    "\n",
    "    "
   ]
  }
 ],
 "metadata": {
  "kernelspec": {
   "display_name": "Python 3",
   "language": "python",
   "name": "python3"
  },
  "language_info": {
   "codemirror_mode": {
    "name": "ipython",
    "version": 3
   },
   "file_extension": ".py",
   "mimetype": "text/x-python",
   "name": "python",
   "nbconvert_exporter": "python",
   "pygments_lexer": "ipython3",
   "version": "3.12.4"
  }
 },
 "nbformat": 4,
 "nbformat_minor": 2
}
