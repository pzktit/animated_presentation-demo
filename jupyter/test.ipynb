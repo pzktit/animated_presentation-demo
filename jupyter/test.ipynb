{
 "cells": [
  {
   "cell_type": "code",
   "execution_count": 12,
   "metadata": {},
   "outputs": [],
   "source": [
    "from manim import *"
   ]
  },
  {
   "cell_type": "code",
   "execution_count": 13,
   "metadata": {},
   "outputs": [
    {
     "data": {
      "text/html": [
       "<pre style=\"white-space:pre;overflow-x:auto;line-height:normal;font-family:Menlo,'DejaVu Sans Mono',consolas,'Courier New',monospace\">Manim Community <span style=\"color: #008000; text-decoration-color: #008000\">v0.18.1</span>\n",
       "\n",
       "</pre>\n"
      ],
      "text/plain": [
       "Manim Community \u001b[32mv0.\u001b[0m\u001b[32m18.1\u001b[0m\n",
       "\n"
      ]
     },
     "metadata": {},
     "output_type": "display_data"
    },
    {
     "name": "stderr",
     "output_type": "stream",
     "text": [
      "                                                                                                    \r"
     ]
    },
    {
     "data": {
      "text/html": [
       "<video src=\"media/jupyter/ItemizeBlock@2024-07-13@13-57-22.mp4\" controls autoplay loop style=\"max-width: 60%;\"  >\n",
       "      Your browser does not support the <code>video</code> element.\n",
       "    </video>"
      ],
      "text/plain": [
       "<IPython.core.display.Video object>"
      ]
     },
     "metadata": {},
     "output_type": "display_data"
    }
   ],
   "source": [
    "%%manim -ql -v ERROR ItemizeBlock  \n",
    "\n",
    "import logging\n",
    "from manim import *\n",
    "\n",
    "# Set logging level to WARNING to reduce verbosity\n",
    "logger = logging.getLogger(\"manim\")\n",
    "logger.setLevel(logging.WARNING)\n",
    "\n",
    "class ItemizeBlock(Scene):\n",
    "    def construct(self):\n",
    "        # Header for the block\n",
    "        header = Text(\"Important Points\", font_size=48)\n",
    "        \n",
    "        # List of items\n",
    "        items = [\n",
    "            \"First important point.\",\n",
    "            \"Second important point.\",\n",
    "            \"Third important point.\",\n",
    "            \"Fourth important point.\"\n",
    "        ]\n",
    "\n",
    "        # Create text objects for each item\n",
    "        item_texts = [Text(item, font_size=36) for item in items]\n",
    "\n",
    "        # Arrange items vertically below the header\n",
    "        item_group = VGroup(*item_texts).arrange(DOWN, aligned_edge=LEFT, buff=0.5)\n",
    "\n",
    "        # Create a rounded rectangle to surround the item group\n",
    "        rectangle_padding = 0.5\n",
    "        surrounding_rectangle = RoundedRectangle(\n",
    "            corner_radius=0.2,\n",
    "            width=item_group.width + 2 * rectangle_padding,\n",
    "            height=item_group.height + header.height + 2 * rectangle_padding\n",
    "        )\n",
    "\n",
    "        # Position the rectangle at the top edge\n",
    "        surrounding_rectangle.to_edge(UP)\n",
    "        \n",
    "        # Position the header below the top edge of the rectangle\n",
    "        header.next_to(surrounding_rectangle.get_top(), DOWN, buff=0.3)\n",
    "        \n",
    "        # Position the item group below the header\n",
    "        item_group.next_to(header, DOWN, buff=0.5)\n",
    "        \n",
    "        # Create a yellow underline for the header\n",
    "        underline = Line(\n",
    "            start=header.get_left() - [0.1, 0, 0], \n",
    "            end=header.get_right() + [0.1, 0, 0], \n",
    "            color=YELLOW, \n",
    "            stroke_width=4\n",
    "        )\n",
    "        underline.next_to(header, DOWN, buff=0.1)\n",
    "        \n",
    "        # Align the left edge of the underline with the left edge of the rectangle\n",
    "        underline.align_to(surrounding_rectangle, LEFT)\n",
    "\n",
    "        # Add header, underline, and rectangle to the scene\n",
    "        self.play(Write(header))\n",
    "        self.play(Create(underline))\n",
    "        self.play(Create(surrounding_rectangle))\n",
    "\n",
    "        # Animate each item appearing one by one within the rectangle\n",
    "        for item_text in item_texts:\n",
    "            self.play(FadeIn(item_text, shift=RIGHT))\n",
    "            self.wait(0.5)  # Wait a bit before the next item appears\n",
    "\n",
    "        # Hold the final scene for a moment\n",
    "        self.wait(2)\n",
    "\n",
    "# To render the scene, save the script as, for example, `itemize_block.py`\n",
    "# and run the following command:\n",
    "# manim -pql itemize_block.py ItemizeBlock\n"
   ]
  }
 ],
 "metadata": {
  "kernelspec": {
   "display_name": "Python 3",
   "language": "python",
   "name": "python3"
  },
  "language_info": {
   "codemirror_mode": {
    "name": "ipython",
    "version": 3
   },
   "file_extension": ".py",
   "mimetype": "text/x-python",
   "name": "python",
   "nbconvert_exporter": "python",
   "pygments_lexer": "ipython3",
   "version": "3.12.4"
  }
 },
 "nbformat": 4,
 "nbformat_minor": 2
}
